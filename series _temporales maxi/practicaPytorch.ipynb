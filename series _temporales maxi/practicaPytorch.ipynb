{
 "cells": [
  {
   "cell_type": "code",
   "execution_count": 15,
   "metadata": {},
   "outputs": [
    {
     "name": "stdout",
     "output_type": "stream",
     "text": [
      "tensor(1., requires_grad=True) tensor(2., requires_grad=True) tensor(3., requires_grad=True) tensor(7., grad_fn=<AddBackward0>) tensor(21., grad_fn=<MulBackward0>)\n"
     ]
    }
   ],
   "source": [
    "import torch\n",
    "\n",
    "x = torch.tensor(1., requires_grad=True)\n",
    "y = torch.tensor(2., requires_grad=True)\n",
    "z = torch.tensor(3., requires_grad=True)\n",
    "\n",
    "p = 3*x + 2*y\n",
    "g = p * z\n",
    "print(x,y,z,p,g)"
   ]
  },
  {
   "cell_type": "code",
   "execution_count": 16,
   "metadata": {},
   "outputs": [],
   "source": [
    "g.backward()"
   ]
  },
  {
   "cell_type": "code",
   "execution_count": 17,
   "metadata": {},
   "outputs": [
    {
     "data": {
      "text/plain": [
       "tensor(7.)"
      ]
     },
     "execution_count": 17,
     "metadata": {},
     "output_type": "execute_result"
    }
   ],
   "source": [
    "z.grad"
   ]
  },
  {
   "cell_type": "code",
   "execution_count": 18,
   "metadata": {},
   "outputs": [
    {
     "data": {
      "text/plain": [
       "tensor(9.)"
      ]
     },
     "execution_count": 18,
     "metadata": {},
     "output_type": "execute_result"
    }
   ],
   "source": [
    "x.grad"
   ]
  },
  {
   "cell_type": "code",
   "execution_count": 19,
   "metadata": {},
   "outputs": [
    {
     "data": {
      "text/plain": [
       "tensor(6.)"
      ]
     },
     "execution_count": 19,
     "metadata": {},
     "output_type": "execute_result"
    }
   ],
   "source": [
    "y.grad"
   ]
  },
  {
   "cell_type": "code",
   "execution_count": 20,
   "metadata": {},
   "outputs": [
    {
     "name": "stdout",
     "output_type": "stream",
     "text": [
      "Clave: a\n",
      "Clave: b\n",
      "Clave: c\n"
     ]
    }
   ],
   "source": [
    "# Definir un diccionario de ejemplo\n",
    "diccionario = {'a': 1, 'b': 2, 'c': 3}\n",
    "\n",
    "# Iterar sobre las claves\n",
    "for clave in diccionario:\n",
    "    print(f\"Clave: {clave}\")\n"
   ]
  },
  {
   "cell_type": "code",
   "execution_count": 21,
   "metadata": {},
   "outputs": [
    {
     "name": "stdout",
     "output_type": "stream",
     "text": [
      "Valor: 1\n",
      "Valor: 2\n",
      "Valor: 3\n"
     ]
    }
   ],
   "source": [
    "# Definir un diccionario de ejemplo\n",
    "diccionario = {'a': 1, 'b': 2, 'c': 3}\n",
    "\n",
    "# Iterar sobre los valores\n",
    "for valor in diccionario.values():\n",
    "    print(f\"Valor: {valor}\")\n"
   ]
  },
  {
   "cell_type": "code",
   "execution_count": 22,
   "metadata": {},
   "outputs": [
    {
     "name": "stdout",
     "output_type": "stream",
     "text": [
      "Clave: a, Valor: 1\n",
      "Clave: b, Valor: 2\n",
      "Clave: c, Valor: 3\n"
     ]
    }
   ],
   "source": [
    "# Definir un diccionario de ejemplo\n",
    "diccionario = {'a': 1, 'b': 2, 'c': 3}\n",
    "\n",
    "# Iterar sobre los pares clave-valor\n",
    "for clave, valor in diccionario.items():\n",
    "    print(f\"Clave: {clave}, Valor: {valor}\")\n"
   ]
  },
  {
   "cell_type": "code",
   "execution_count": 23,
   "metadata": {},
   "outputs": [
    {
     "name": "stdout",
     "output_type": "stream",
     "text": [
      "Clave: clave1\n",
      "Valores:\n",
      "1\n",
      "2\n",
      "3\n",
      "4\n",
      "5\n",
      "6\n",
      "7\n",
      "8\n",
      "9\n",
      "10\n",
      "Clave: clave2\n",
      "Valores:\n",
      "11\n",
      "12\n",
      "13\n",
      "14\n",
      "15\n",
      "16\n",
      "17\n",
      "18\n",
      "19\n",
      "20\n",
      "Clave: clave3\n",
      "Valores:\n",
      "21\n",
      "22\n",
      "23\n",
      "24\n",
      "25\n",
      "26\n",
      "27\n",
      "28\n",
      "29\n",
      "30\n"
     ]
    }
   ],
   "source": [
    "# Definir un diccionario con tres claves y listas de diez valores para cada clave\n",
    "diccionario = {\n",
    "    'clave1': [1, 2, 3, 4, 5, 6, 7, 8, 9, 10],\n",
    "    'clave2': [11, 12, 13, 14, 15, 16, 17, 18, 19, 20],\n",
    "    'clave3': [21, 22, 23, 24, 25, 26, 27, 28, 29, 30]\n",
    "}\n",
    "\n",
    "# Iterar sobre las claves y sus respectivas listas de valores\n",
    "for clave, valores in diccionario.items():\n",
    "    print(f\"Clave: {clave}\")\n",
    "    print(\"Valores:\")\n",
    "    for valor in valores:\n",
    "        print(valor)\n"
   ]
  },
  {
   "cell_type": "code",
   "execution_count": 24,
   "metadata": {},
   "outputs": [
    {
     "name": "stdout",
     "output_type": "stream",
     "text": [
      "Clave: clave1\n",
      "Valores: [1, 2, 3, 4, 5, 6, 7, 8, 9, 10]\n",
      "Clave: clave2\n",
      "Valores: [11, 12, 13, 14, 15, 16, 17, 18, 19, 20]\n",
      "Clave: clave3\n",
      "Valores: [21, 22, 23, 24, 25, 26, 27, 28, 29, 30]\n"
     ]
    },
    {
     "ename": "",
     "evalue": "",
     "output_type": "error",
     "traceback": [
      "\u001b[1;31mEl kernel se bloqueó al ejecutar código en la celda actual o en una celda anterior. \n",
      "\u001b[1;31mRevise el código de las celdas para identificar una posible causa del error. \n",
      "\u001b[1;31mHaga clic <a href='https://aka.ms/vscodeJupyterKernelCrash'>aquí</a> para obtener más información. \n",
      "\u001b[1;31mVea Jupyter <a href='command:jupyter.viewOutput'>log</a> para obtener más detalles."
     ]
    }
   ],
   "source": [
    "# Iterar sobre las claves y sus respectivas listas de valores\n",
    "for clave, valores in diccionario.items():\n",
    "    print(f\"Clave: {clave}\")\n",
    "    print(\"Valores:\", valores)\n"
   ]
  }
 ],
 "metadata": {
  "kernelspec": {
   "display_name": "Python 3",
   "language": "python",
   "name": "python3"
  },
  "language_info": {
   "codemirror_mode": {
    "name": "ipython",
    "version": 3
   },
   "file_extension": ".py",
   "mimetype": "text/x-python",
   "name": "python",
   "nbconvert_exporter": "python",
   "pygments_lexer": "ipython3",
   "version": "3.11.3"
  }
 },
 "nbformat": 4,
 "nbformat_minor": 2
}
