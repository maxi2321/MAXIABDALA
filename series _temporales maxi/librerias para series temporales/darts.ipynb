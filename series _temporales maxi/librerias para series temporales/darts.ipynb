{
 "cells": [
  {
   "cell_type": "markdown",
   "metadata": {},
   "source": [
    "## Métodos comunes para las series temporales (\"TimeSeries\"):\n",
    "\n",
    "plot: Para trazar la serie temporal.\n",
    "shift: Para desplazar la serie temporal hacia adelante o hacia atrás en el tiempo.\n",
    "dropna: Para eliminar valores NaN (no disponibles) de la serie temporal.\n",
    "split_before: Para dividir la serie temporal en dos partes en función de una fecha determinada.\n",
    "append: Para agregar otra serie temporal al final de la serie actual.\n",
    "stack: Para apilar varias series temporales juntas en una única serie temporal.\n",
    "to_pandas: Para convertir la serie temporal a un objeto DataFrame de pandas.\n",
    "Métodos comunes para la construcción y entrenamiento de modelos (\"Model\"):\n",
    "\n",
    "fit: Para entrenar el modelo en una serie temporal dada.\n",
    "\n",
    "predict: Para hacer predicciones utilizando el modelo entrenado.\n",
    "\n",
    "backtest: Para realizar una validación cruzada retroactiva del modelo en datos históricos.\n",
    "\n",
    "evaluate: Para evaluar el rendimiento del modelo en datos de prueba.\n",
    "\n",
    "save: Para guardar el modelo entrenado en disco.\n",
    "\n",
    "load: Para cargar un modelo previamente guardado desde el disco.\n",
    "\n",
    "Atributos comunes para los modelos:\n",
    "\n",
    "params: Para acceder a los parámetros del modelo entrenado.\n",
    "\n",
    "model: Para acceder al modelo subyacente utilizado en el objeto.\n",
    "\n",
    "fit_history: Para acceder al historial de entrenamiento del modelo (p. ej., pérdida en cada iteración)."
   ]
  },
  {
   "cell_type": "code",
   "execution_count": null,
   "metadata": {},
   "outputs": [],
   "source": []
  },
  {
   "cell_type": "code",
   "execution_count": null,
   "metadata": {},
   "outputs": [
    {
     "ename": "",
     "evalue": "",
     "output_type": "error",
     "traceback": [
      "\u001b[1;31mNo se pudo iniciar el Kernel. \n",
      "\u001b[1;31mNo se ha podido iniciar el Kernel \"Python 3.undefined.undefined\" debido a un tiempo de espera para que se utilicen los puertos. \n",
      "\u001b[1;31mVer Jupyter <a href='command:jupyter.viewOutput'>log</a> para más detalles."
     ]
    }
   ],
   "source": [
    "import numpy as np\n",
    "from darts import TimeSeries\n",
    "\n",
    "# Crear una serie temporal sintética\n",
    "np.random.seed(0)\n",
    "values = np.random.randn(100)\n",
    "series = TimeSeries.from_values(values)\n",
    "\n",
    "# Tracer la serie temporal\n",
    "series.plot()\n"
   ]
  },
  {
   "cell_type": "code",
   "execution_count": null,
   "metadata": {},
   "outputs": [],
   "source": []
  },
  {
   "cell_type": "markdown",
   "metadata": {},
   "source": []
  }
 ],
 "metadata": {
  "kernelspec": {
   "display_name": "Python 3",
   "language": "python",
   "name": "python3"
  },
  "language_info": {
   "name": "python",
   "version": "3.10.5"
  }
 },
 "nbformat": 4,
 "nbformat_minor": 2
}
