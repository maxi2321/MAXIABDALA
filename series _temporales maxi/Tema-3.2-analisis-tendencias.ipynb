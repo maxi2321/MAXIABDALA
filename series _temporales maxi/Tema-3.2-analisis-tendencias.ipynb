{
 "cells": [
  {
   "cell_type": "code",
   "execution_count": 5,
   "metadata": {},
   "outputs": [],
   "source": [
    "# Importamos las librerías y módulos que usaremos\n",
    "import os\n",
    "import numpy as np\n",
    "import matplotlib.pyplot as plt\n",
    "import pandas as pd\n",
    "from statsmodels.tsa.api import SimpleExpSmoothing\n",
    "from scipy.optimize import curve_fit"
   ]
  },
  {
   "cell_type": "markdown",
   "metadata": {},
   "source": [
    "# Análisis de tendencias\n",
    "\n",
    "Primero leemos los archivos y examinamos la serie temporal"
   ]
  },
  {
   "cell_type": "code",
   "execution_count": 6,
   "metadata": {},
   "outputs": [
    {
     "ename": "NameError",
     "evalue": "name 'filename' is not defined",
     "output_type": "error",
     "traceback": [
      "\u001b[0;31m---------------------------------------------------------------------------\u001b[0m",
      "\u001b[0;31mNameError\u001b[0m                                 Traceback (most recent call last)",
      "Cell \u001b[0;32mIn[6], line 5\u001b[0m\n\u001b[1;32m      3\u001b[0m     filename \u001b[38;5;241m=\u001b[39m \u001b[38;5;124m'\u001b[39m\u001b[38;5;124m../../Data/googleStock/Google_Stock_Train (2010-2022).csv\u001b[39m\u001b[38;5;124m'\u001b[39m\n\u001b[1;32m      4\u001b[0m \u001b[38;5;66;03m# leyendo con pandas\u001b[39;00m\n\u001b[0;32m----> 5\u001b[0m df \u001b[38;5;241m=\u001b[39m pd\u001b[38;5;241m.\u001b[39mread_csv(\u001b[43mfilename\u001b[49m)  \u001b[38;5;66;03m# esta línea abre el archivo, lo lee y crea el dataframe\u001b[39;00m\n\u001b[1;32m      6\u001b[0m \u001b[38;5;28mprint\u001b[39m(df\u001b[38;5;241m.\u001b[39mdtypes)    \u001b[38;5;66;03m# Siempre es importante saber qué tipo de dato es cada columna\u001b[39;00m\n\u001b[1;32m      7\u001b[0m df[\u001b[38;5;124m'\u001b[39m\u001b[38;5;124mDate\u001b[39m\u001b[38;5;124m'\u001b[39m] \u001b[38;5;241m=\u001b[39m pd\u001b[38;5;241m.\u001b[39mto_datetime(df[\u001b[38;5;124m'\u001b[39m\u001b[38;5;124mDate\u001b[39m\u001b[38;5;124m'\u001b[39m])\n",
      "\u001b[0;31mNameError\u001b[0m: name 'filename' is not defined"
     ]
    }
   ],
   "source": [
    "# Chequenado y guardando el nombre del archivo para leer\n",
    "if os.path.exists('../../Data/googleStock/Google_Stock_Train (2010-2022).csv'):\n",
    "    filename = '../../Data/googleStock/Google_Stock_Train (2010-2022).csv'\n",
    "# leyendo con pandas\n",
    "df = pd.read_csv(filename)  # esta línea abre el archivo, lo lee y crea el dataframe\n",
    "print(df.dtypes)    # Siempre es importante saber qué tipo de dato es cada columna\n",
    "df['Date'] = pd.to_datetime(df['Date'])\n",
    "df.plot(x = 'Date',subplots = True)\n",
    "df.head() # Mirando las primeras columnas"
   ]
  },
  {
   "cell_type": "code",
   "execution_count": null,
   "metadata": {},
   "outputs": [
    {
     "ename": "",
     "evalue": "",
     "output_type": "error",
     "traceback": [
      "\u001b[1;31mNo se pudo iniciar el Kernel. \n",
      "\u001b[1;31mNo se ha podido iniciar el Kernel \"prueba (Python 3.11.3)\" debido a un tiempo de espera de la conexión. \n",
      "\u001b[1;31mConsulte Jupyter <a href='command:jupyter.viewOutput'>log</a> para obtener más detalles."
     ]
    }
   ],
   "source": [
    "def ma(t, x, ws= 5):\n",
    "    ''' Funcion para calcular la media movil de una serie temporal (simetrica)\n",
    "        Entradas:\n",
    "            - t: timestamps\n",
    "            - x: serie datos\n",
    "            - ws: tamaño de la ventana\n",
    "        Salidas:\n",
    "            - t: timestamps\n",
    "            - y: media movil\n",
    "    '''\n",
    "\n",
    "    assert ws%2 == 1, 'ws debe ser entero e impar' \n",
    "    n_samples = x.shape[0]\n",
    "    n_windows = n_samples-ws\n",
    "    tstamps = []\n",
    "    y = np.zeros(n_windows)\n",
    "    for i in range(0, n_windows):\n",
    "        right = n_samples - i \n",
    "        left = n_samples - i - ws \n",
    "        y[n_windows - i - 1] = x[left:right].mean() \n",
    "        tstamps.insert(0,t[(left+right)//2])\n",
    "    return tstamps, y\n"
   ]
  },
  {
   "cell_type": "code",
   "execution_count": null,
   "metadata": {},
   "outputs": [
    {
     "ename": "",
     "evalue": "",
     "output_type": "error",
     "traceback": [
      "\u001b[1;31mNo se pudo iniciar el Kernel. \n",
      "\u001b[1;31mNo se ha podido iniciar el Kernel \"prueba (Python 3.11.3)\" debido a un tiempo de espera de la conexión. \n",
      "\u001b[1;31mConsulte Jupyter <a href='command:jupyter.viewOutput'>log</a> para obtener más detalles."
     ]
    }
   ],
   "source": [
    "# Analizamos la media movil \n",
    "ws = 21 # ancho de la ventana temporal\n",
    "m_averaged = []\n",
    "for c in list(df.columns)[1:]:\n",
    "    t, d = ma(df['Date'],df[c].to_numpy(), ws=ws)\n",
    "    m_averaged.append(d)\n",
    "m_averaged = np.array(m_averaged).T\n",
    "labels = list(df.columns)[1:]\n",
    "print(t)"
   ]
  },
  {
   "cell_type": "code",
   "execution_count": null,
   "metadata": {},
   "outputs": [
    {
     "ename": "",
     "evalue": "",
     "output_type": "error",
     "traceback": [
      "\u001b[1;31mNo se pudo iniciar el Kernel. \n",
      "\u001b[1;31mNo se ha podido iniciar el Kernel \"prueba (Python 3.11.3)\" debido a un tiempo de espera de la conexión. \n",
      "\u001b[1;31mConsulte Jupyter <a href='command:jupyter.viewOutput'>log</a> para obtener más detalles."
     ]
    }
   ],
   "source": [
    "fig, axs = plt.subplots(len(labels),1, figsize=(10,15))\n",
    "for i in range(len(labels)):\n",
    "    axs[i].plot(t, m_averaged[:,i], label = labels[i])\n",
    "    axs[i].legend()\n",
    "plt.show()"
   ]
  },
  {
   "cell_type": "markdown",
   "metadata": {},
   "source": [
    "## Analizando tendencias lineales"
   ]
  },
  {
   "cell_type": "code",
   "execution_count": null,
   "metadata": {},
   "outputs": [
    {
     "ename": "",
     "evalue": "",
     "output_type": "error",
     "traceback": [
      "\u001b[1;31mNo se pudo iniciar el Kernel. \n",
      "\u001b[1;31mNo se ha podido iniciar el Kernel \"prueba (Python 3.11.3)\" debido a un tiempo de espera de la conexión. \n",
      "\u001b[1;31mConsulte Jupyter <a href='command:jupyter.viewOutput'>log</a> para obtener más detalles."
     ]
    }
   ],
   "source": [
    "def lineal(x, a, b):\n",
    "    return a*x + b\n",
    "\n",
    "def cuadratica(x,a,b,c):\n",
    "    return a*x**2 + b*x + c\n"
   ]
  },
  {
   "cell_type": "code",
   "execution_count": null,
   "metadata": {},
   "outputs": [
    {
     "ename": "",
     "evalue": "",
     "output_type": "error",
     "traceback": [
      "\u001b[1;31mNo se pudo iniciar el Kernel. \n",
      "\u001b[1;31mNo se ha podido iniciar el Kernel \"prueba (Python 3.11.3)\" debido a un tiempo de espera de la conexión. \n",
      "\u001b[1;31mConsulte Jupyter <a href='command:jupyter.viewOutput'>log</a> para obtener más detalles."
     ]
    }
   ],
   "source": [
    "# Para fitear funciones necesitamos pasar los timestamps a algún formato numérico\n",
    "# Es usual utilizar unix epochs para trabajar con numeros de punto flotante\n",
    "print(f'antes {type(t[0])}')\n",
    "# create test data\n",
    "dates = pd.to_datetime(t)\n",
    "# calculate unix datetime\n",
    "t_epochs =(dates - pd.Timestamp(\"1970-01-01\")) // pd.Timedelta('1s')\n",
    "print(f'despues {type(t_epochs[0])}')"
   ]
  },
  {
   "cell_type": "code",
   "execution_count": null,
   "metadata": {},
   "outputs": [
    {
     "ename": "",
     "evalue": "",
     "output_type": "error",
     "traceback": [
      "\u001b[1;31mNo se pudo iniciar el Kernel. \n",
      "\u001b[1;31mNo se ha podido iniciar el Kernel \"prueba (Python 3.11.3)\" debido a un tiempo de espera de la conexión. \n",
      "\u001b[1;31mConsulte Jupyter <a href='command:jupyter.viewOutput'>log</a> para obtener más detalles."
     ]
    }
   ],
   "source": [
    "def fit_batch(abcisas, data, function):\n",
    "    assert type(data) == type(np.array([])), 'data tiene que ser un vector de numpy'\n",
    "    if data.shape[0] != data.size:\n",
    "        n_series = data.shape[1]\n",
    "    else:\n",
    "        n_series = data.size\n",
    "    opt_vals = []\n",
    "    errors = []\n",
    "    for i in range(n_series):\n",
    "        popt, pcov = curve_fit(function, abcisas, data[:,i])\n",
    "        opt_vals.append(popt)\n",
    "        errors.append(np.diag(pcov))\n",
    "    \n",
    "    return opt_vals, errors\n",
    "\n",
    "def mae(y, y_hat):\n",
    "    return np.abs(y-y_hat).mean(axis = 0)\n",
    "\n",
    "def mse(y, y_hat):\n",
    "    return ((y-y_hat)**2).mean(axis = 0)"
   ]
  },
  {
   "cell_type": "code",
   "execution_count": null,
   "metadata": {},
   "outputs": [
    {
     "ename": "",
     "evalue": "",
     "output_type": "error",
     "traceback": [
      "\u001b[1;31mNo se pudo iniciar el Kernel. \n",
      "\u001b[1;31mNo se ha podido iniciar el Kernel \"prueba (Python 3.11.3)\" debido a un tiempo de espera de la conexión. \n",
      "\u001b[1;31mConsulte Jupyter <a href='command:jupyter.viewOutput'>log</a> para obtener más detalles."
     ]
    }
   ],
   "source": [
    "opt_vals, errors = fit_batch(t_epochs, m_averaged, lineal)\n",
    "print(f'parametros óptimos: {opt_vals}')\n",
    "print(f'traza de la matriz de covarianza: {errors}')"
   ]
  },
  {
   "cell_type": "code",
   "execution_count": null,
   "metadata": {},
   "outputs": [
    {
     "ename": "",
     "evalue": "",
     "output_type": "error",
     "traceback": [
      "\u001b[1;31mNo se pudo iniciar el Kernel. \n",
      "\u001b[1;31mNo se ha podido iniciar el Kernel \"prueba (Python 3.11.3)\" debido a un tiempo de espera de la conexión. \n",
      "\u001b[1;31mConsulte Jupyter <a href='command:jupyter.viewOutput'>log</a> para obtener más detalles."
     ]
    }
   ],
   "source": [
    "fig, axs = plt.subplots(len(labels),1, figsize=(5,10))\n",
    "for i in range(len(labels)):\n",
    "    axs[i].plot(df['Date'],df[labels[i]], label = labels[i] + '- media movil ' + str(ws))\n",
    "    axs[i].plot(t,lineal(t_epochs,*opt_vals[i]), label = 'linear trend')\n",
    "    axs[i].legend()\n"
   ]
  },
  {
   "cell_type": "code",
   "execution_count": null,
   "metadata": {},
   "outputs": [
    {
     "ename": "",
     "evalue": "",
     "output_type": "error",
     "traceback": [
      "\u001b[1;31mNo se pudo iniciar el Kernel. \n",
      "\u001b[1;31mNo se ha podido iniciar el Kernel \"prueba (Python 3.11.3)\" debido a un tiempo de espera de la conexión. \n",
      "\u001b[1;31mConsulte Jupyter <a href='command:jupyter.viewOutput'>log</a> para obtener más detalles."
     ]
    }
   ],
   "source": [
    "# para evaluar el error del fiteo usamos MAE y MSE sobre todos los datos\n",
    "# evaluamos la tendencia lineal en los valores de las distribuciones\n",
    "dates = pd.to_datetime(df['Date'])\n",
    "t_epochs =(dates - pd.Timestamp(\"1970-01-01\")) // pd.Timedelta('1s')\n",
    "\n",
    "predict = np.array([lineal(t_epochs,*opt_vals[i]) for i in range(len(labels))])\n",
    "print(f'MAE para ajuste lineal de la MA(21):\\n{mae(df[labels],predict.T)}')\n",
    "print(f'Sqrt(MSE) para ajuste lineal de la MA(21):\\n{np.sqrt(mse(df[labels],predict.T))}')\n"
   ]
  },
  {
   "cell_type": "code",
   "execution_count": null,
   "metadata": {},
   "outputs": [
    {
     "ename": "",
     "evalue": "",
     "output_type": "error",
     "traceback": [
      "\u001b[1;31mNo se pudo iniciar el Kernel. \n",
      "\u001b[1;31mNo se ha podido iniciar el Kernel \"prueba (Python 3.11.3)\" debido a un tiempo de espera de la conexión. \n",
      "\u001b[1;31mConsulte Jupyter <a href='command:jupyter.viewOutput'>log</a> para obtener más detalles."
     ]
    }
   ],
   "source": [
    "# Se puede hacer lo mismo a partir de un fiteo cuadrático\n",
    "\n",
    "# create test data\n",
    "dates = pd.to_datetime(t)\n",
    "# calculate unix datetime\n",
    "t_epochs =(dates - pd.Timestamp(\"1970-01-01\")) // pd.Timedelta('1s')\n",
    "opt_vals, errors = fit_batch(t_epochs, m_averaged, cuadratica)\n",
    "print(f'parametros óptimos: {opt_vals}')\n",
    "print(f'traza de la matriz de covarianza: {errors}')\n",
    "\n",
    "# el dibujito\n",
    "fig, axs = plt.subplots(len(labels),1, figsize=(5,10))\n",
    "for i in range(len(labels)):\n",
    "    axs[i].plot(df['Date'],df[labels[i]], label = labels[i] + '- media movil ' + str(ws))\n",
    "    axs[i].plot(t,cuadratica(t_epochs,*opt_vals[i]), label = 'linear trend')\n",
    "    axs[i].legend()\n",
    "\n",
    "# para evaluar el error del fiteo usamos MAE y MSE sobre todos los datos\n",
    "dates = pd.to_datetime(df['Date'])\n",
    "t_epochs =(dates - pd.Timestamp(\"1970-01-01\")) // pd.Timedelta('1s')\n",
    "\n",
    "predict = np.array([cuadratica(t_epochs,*opt_vals[i]) for i in range(len(labels))])\n",
    "print(f'MAE para ajuste lineal de la MA(21):\\n{mae(df[labels],predict.T)}')\n",
    "print(f'Sqrt(MSE) para ajuste lineal de la MA(21):\\n{np.sqrt(mse(df[labels],predict.T))}')\n"
   ]
  },
  {
   "cell_type": "markdown",
   "metadata": {},
   "source": [
    "Se observa que los errores se reducen bastante. Se pueden ensayar diferentes tipos de funciones, aquí mostraremos otro truco, que consiste en tomar el logaritmo natural de la distribución para ajustarla"
   ]
  },
  {
   "cell_type": "code",
   "execution_count": null,
   "metadata": {},
   "outputs": [
    {
     "ename": "",
     "evalue": "",
     "output_type": "error",
     "traceback": [
      "\u001b[1;31mNo se pudo iniciar el Kernel. \n",
      "\u001b[1;31mNo se ha podido iniciar el Kernel \"prueba (Python 3.11.3)\" debido a un tiempo de espera de la conexión. \n",
      "\u001b[1;31mConsulte Jupyter <a href='command:jupyter.viewOutput'>log</a> para obtener más detalles."
     ]
    }
   ],
   "source": [
    "log_ma = np.log(m_averaged)\n",
    "fig, axs = plt.subplots(len(labels),1, figsize=(5,10))\n",
    "for i in range(len(labels)):\n",
    "    axs[i].plot(t, log_ma[:,i], label = labels[i])\n",
    "    axs[i].legend()"
   ]
  },
  {
   "cell_type": "markdown",
   "metadata": {},
   "source": [
    "En las figuras previas se puede ver que un ajuste lineal puede ser útil"
   ]
  },
  {
   "cell_type": "code",
   "execution_count": null,
   "metadata": {},
   "outputs": [
    {
     "ename": "",
     "evalue": "",
     "output_type": "error",
     "traceback": [
      "\u001b[1;31mNo se pudo iniciar el Kernel. \n",
      "\u001b[1;31mNo se ha podido iniciar el Kernel \"prueba (Python 3.11.3)\" debido a un tiempo de espera de la conexión. \n",
      "\u001b[1;31mConsulte Jupyter <a href='command:jupyter.viewOutput'>log</a> para obtener más detalles."
     ]
    }
   ],
   "source": [
    "# create test data\n",
    "dates = pd.to_datetime(t)\n",
    "# calculate unix datetime\n",
    "t_epochs =(dates - pd.Timestamp(\"1970-01-01\")) // pd.Timedelta('1s')\n",
    "opt_vals, errors = fit_batch(t_epochs, log_ma, lineal)\n",
    "print(f'parametros óptimos: {opt_vals}')\n",
    "print(f'traza de la matriz de covarianza: {errors}')\n",
    "\n",
    "# el dibujito\n",
    "fig, axs = plt.subplots(len(labels),1, figsize=(5,10))\n",
    "for i in range(len(labels)):\n",
    "    axs[i].plot(dates, log_ma[:,i], label = labels[i] + '- log media movil ' + str(ws))\n",
    "    axs[i].plot(t,lineal(t_epochs,*opt_vals[i]), label = 'linear trend')\n",
    "    axs[i].legend()\n",
    "\n",
    "# para evaluar el error del fiteo usamos MAE y MSE sobre todos los datos\n",
    "dates = pd.to_datetime(df['Date'])\n",
    "t_epochs =(dates - pd.Timestamp(\"1970-01-01\")) // pd.Timedelta('1s')\n",
    "\n",
    "predict = np.array([np.exp(lineal(t_epochs,*opt_vals[i])) for i in range(len(labels))])\n",
    "print(f'MAE para ajuste lineal de la MA(21):\\n{mae(df[labels],predict.T)}')\n",
    "print(f'Sqrt(MSE) para ajuste lineal de la MA(21):\\n{np.sqrt(mse(df[labels],predict.T))}')\n"
   ]
  },
  {
   "cell_type": "markdown",
   "metadata": {},
   "source": [
    "y se puede observar que este ajuste proporciona un error similar al obtenido con un ajuste cuadrático.\n",
    "\n",
    "Finalmente, otra manera de extraer estacionalidad es a partir de derivadas. Para esto cabe recordar que la derivada de una función polinómica reduce en uno el orden del polinomio."
   ]
  },
  {
   "cell_type": "code",
   "execution_count": null,
   "metadata": {},
   "outputs": [
    {
     "ename": "",
     "evalue": "",
     "output_type": "error",
     "traceback": [
      "\u001b[1;31mNo se pudo iniciar el Kernel. \n",
      "\u001b[1;31mNo se ha podido iniciar el Kernel \"prueba (Python 3.11.3)\" debido a un tiempo de espera de la conexión. \n",
      "\u001b[1;31mConsulte Jupyter <a href='command:jupyter.viewOutput'>log</a> para obtener más detalles."
     ]
    }
   ],
   "source": [
    "def deriv_fwd(x, y):\n",
    "    return (y[1:]-y[:-1])/(x[1:]-x[:-1])"
   ]
  },
  {
   "cell_type": "code",
   "execution_count": null,
   "metadata": {},
   "outputs": [
    {
     "ename": "",
     "evalue": "",
     "output_type": "error",
     "traceback": [
      "\u001b[1;31mNo se pudo iniciar el Kernel. \n",
      "\u001b[1;31mNo se ha podido iniciar el Kernel \"prueba (Python 3.11.3)\" debido a un tiempo de espera de la conexión. \n",
      "\u001b[1;31mConsulte Jupyter <a href='command:jupyter.viewOutput'>log</a> para obtener más detalles."
     ]
    }
   ],
   "source": [
    "# create test data\n",
    "dates = pd.to_datetime(df['Date'])\n",
    "# calculate unix datetime\n",
    "t_epochs =(dates - pd.Timestamp(\"1970-01-01\")) // pd.Timedelta('1s')\n",
    "\n",
    "derivs = np.array([deriv_fwd(t_epochs.to_numpy(), df[l].to_numpy()) for l in labels]).T\n",
    "# el dibujito\n",
    "fig, axs = plt.subplots(len(labels),1, figsize=(5,10))\n",
    "for i in range(len(labels)):\n",
    "    axs[i].plot(dates.to_numpy()[1:], derivs[:,i], label = labels[i] )\n",
    "    axs[i].legend()\n",
    "\n",
    "# predict = np.array([np.exp(lineal(t_epochs,*opt_vals[i])) for i in range(len(labels))])\n",
    "# print(f'MAE para ajuste lineal de la MA(21):\\n{mae(df[labels],predict.T)}')\n",
    "# print(f'Sqrt(MSE) para ajuste lineal de la MA(21):\\n{np.sqrt(mse(df[labels],predict.T))}')"
   ]
  },
  {
   "cell_type": "markdown",
   "metadata": {},
   "source": [
    "Las derivadas muestran un comportamiento plano, con una desviación estándar que varía en el tiempo. Se puede ajustar la tendencia lineal sacando la media de esta distribución, y luego hacer alguna transformación que permita ajustar la desviación estándar"
   ]
  },
  {
   "cell_type": "markdown",
   "metadata": {},
   "source": []
  }
 ],
 "metadata": {
  "kernelspec": {
   "display_name": "Python 3",
   "language": "python",
   "name": "python3"
  },
  "language_info": {
   "codemirror_mode": {
    "name": "ipython",
    "version": 3
   },
   "file_extension": ".py",
   "mimetype": "text/x-python",
   "name": "python",
   "nbconvert_exporter": "python",
   "pygments_lexer": "ipython3",
   "version": "3.11.3"
  }
 },
 "nbformat": 4,
 "nbformat_minor": 2
}
