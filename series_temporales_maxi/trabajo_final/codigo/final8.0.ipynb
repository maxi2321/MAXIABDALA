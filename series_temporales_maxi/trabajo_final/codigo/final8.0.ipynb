{
 "cells": [
  {
   "cell_type": "code",
   "execution_count": null,
   "metadata": {},
   "outputs": [
    {
     "ename": "",
     "evalue": "",
     "output_type": "error",
     "traceback": [
      "\u001b[1;31mNo se pudo iniciar el Kernel. \n",
      "\u001b[1;31mNo se ha podido iniciar el Kernel \"seriesTemporales (Python 3.12.3)\" debido a un tiempo de espera para que se utilicen los puertos. \n",
      "\u001b[1;31mVer Jupyter <a href='command:jupyter.viewOutput'>log</a> para más detalles."
     ]
    }
   ],
   "source": [
    "import os\n",
    "import librosa\n",
    "import numpy as np\n",
    "\n",
    "# Carpeta donde están los datos de entrenamiento\n",
    "data_folder = 'data/train'\n",
    "max_spec_length = 88200  # Longitud máxima deseada para los espectrogramas\n",
    "\n",
    "# Tasa de muestreo que vamos a asumir para todos los audios\n",
    "sampling_rate = 22050\n",
    "\n",
    "# Función para calcular el espectrograma de baja frecuencia\n",
    "def compute_low_freq_spectrogram(audio_array, sr):\n",
    "    \"\"\"\n",
    "    Compute Low Frequency Spectrogram for a given audio array.\n",
    "    \n",
    "    Args:\n",
    "    - audio_array (np.ndarray): Array containing audio data.\n",
    "    - sr (int): Sampling rate of the audio file.\n",
    "    \n",
    "    Returns:\n",
    "    - S_DB (np.ndarray): Low frequency spectrogram in decibels.\n",
    "    \"\"\"\n",
    "    # Aquí debes implementar la lógica para calcular el espectrograma de baja frecuencia\n",
    "    # Por ahora, vamos a devolver el espectrograma de Mel con valores arbitrarios\n",
    "    S = librosa.feature.melspectrogram(y=audio_array, sr=sr, n_mels=128, hop_length=512, n_fft=1024)\n",
    "    S_DB = librosa.power_to_db(S, ref=np.max)\n",
    "    return S_DB\n",
    "\n",
    "# Obtener las carpetas de clases\n",
    "classes_folders = os.listdir(data_folder)\n",
    "\n",
    "# Diccionario para almacenar los espectrogramas de baja frecuencia\n",
    "mel_spectograms = {}\n",
    "\n",
    "# Calcular los espectrogramas de baja frecuencia para cada clase y cada archivo de audio\n",
    "for c in classes_folders:\n",
    "    if c[0] != '.':  # Evitar archivos ocultos si los hubiera\n",
    "        mel_spectograms[c] = []\n",
    "        for f in os.listdir(os.path.join(data_folder, c)):\n",
    "            file_path = os.path.join(data_folder, c, f)\n",
    "            \n",
    "            # Cargar el audio usando librosa\n",
    "            audio, sr = librosa.load(file_path, sr=None)\n",
    "            \n",
    "            # Calcular el espectrograma de baja frecuencia\n",
    "            low_freq_spec = compute_low_freq_spectrogram(audio, sampling_rate)\n",
    "            \n",
    "            # Agregar el espectrograma al diccionario de datos\n",
    "            mel_spectograms[c].append(low_freq_spec)\n",
    "\n",
    "# Verificar la cantidad de espectrogramas calculados por clase\n",
    "for k, v in mel_spectograms.items():\n",
    "    print(f'Clase {k}: {len(v)} espectrogramas de baja frecuencia')\n"
   ]
  },
  {
   "cell_type": "code",
   "execution_count": null,
   "metadata": {},
   "outputs": [],
   "source": [
    "import matplotlib.pyplot as plt\n",
    "\n",
    "# Función para graficar los espectrogramas de baja frecuencia de una clase específica\n",
    "def plot_low_freq_spectrograms(low_freq_spectrograms, class_name):\n",
    "    num_specs = len(low_freq_spectrograms[class_name])\n",
    "    fig, axs = plt.subplots(1, num_specs, figsize=(15, 5))\n",
    "    fig.suptitle(f'Espectrogramas de Baja Frecuencia para la Clase {class_name}', fontsize=16)\n",
    "    \n",
    "    for i, low_freq_spec in enumerate(low_freq_spectrograms[class_name]):\n",
    "        axs[i].imshow(low_freq_spec, cmap='viridis', origin='lower', aspect='auto')\n",
    "        axs[i].set_title(f'Espectrograma {i + 1}')\n",
    "        axs[i].set_xlabel('Tiempo')\n",
    "        axs[i].set_ylabel('Frecuencia')\n",
    "        axs[i].xaxis.set_major_formatter(plt.FuncFormatter(lambda x, _: '{:.0f}s'.format(x)))\n",
    "    \n",
    "    plt.tight_layout()\n",
    "    plt.subplots_adjust(top=0.85)  # Ajustar el espacio para el título\n",
    "    plt.show()\n",
    "\n",
    "# Graficar los espectrogramas de baja frecuencia para cada clase\n",
    "for class_name in low_freq_spectrograms.keys():\n",
    "    plot_low_freq_spectrograms(low_freq_spectrograms, class_name)\n"
   ]
  }
 ],
 "metadata": {
  "kernelspec": {
   "display_name": "Python 3",
   "language": "python",
   "name": "python3"
  },
  "language_info": {
   "codemirror_mode": {
    "name": "ipython",
    "version": 3
   },
   "file_extension": ".py",
   "mimetype": "text/x-python",
   "name": "python",
   "nbconvert_exporter": "python",
   "pygments_lexer": "ipython3",
   "version": "3.12.3"
  }
 },
 "nbformat": 4,
 "nbformat_minor": 2
}
