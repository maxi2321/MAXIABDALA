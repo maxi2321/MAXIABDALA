{
 "cells": [
  {
   "cell_type": "code",
   "execution_count": 58,
   "metadata": {},
   "outputs": [
    {
     "name": "stdout",
     "output_type": "stream",
     "text": [
      "datohorario20230601.txt\n",
      "datohorario20230602.txt\n",
      "datohorario20230603.txt\n",
      "datohorario20230604.txt\n",
      "datohorario20230605.txt\n",
      "datohorario20230606.txt\n",
      "datohorario20230607.txt\n",
      "datohorario20230608.txt\n",
      "datohorario20230609.txt\n",
      "datohorario20230610.txt\n",
      "datohorario20230611.txt\n",
      "datohorario20230612.txt\n",
      "datohorario20230613.txt\n",
      "datohorario20230614.txt\n",
      "datohorario20230615.txt\n",
      "datohorario20230616.txt\n",
      "datohorario20230617.txt\n",
      "datohorario20230618.txt\n",
      "datohorario20230619.txt\n",
      "datohorario20230620.txt\n",
      "datohorario20230621.txt\n",
      "datohorario20230622.txt\n",
      "datohorario20230623.txt\n",
      "datohorario20230624.txt\n",
      "datohorario20230625.txt\n",
      "datohorario20230626.txt\n",
      "datohorario20230627.txt\n",
      "datohorario20230628.txt\n",
      "datohorario20230629.txt\n",
      "datohorario20230630.txt\n"
     ]
    }
   ],
   "source": [
    "import os\n",
    "\n",
    "# Directorio al que quieres acceder\n",
    "directorio = '/Users/maxiabdala/Documents/python/series _temporales maxi/tema 5/junio-SMN/horario'\n",
    "\n",
    "# Cambiar al directorio deseado\n",
    "os.chdir(directorio)\n",
    "\n",
    "# Obtener una lista de todos los archivos en el directorio y los ordena alfanumericamente\n",
    "archivos = sorted(os.listdir())\n",
    "\n",
    "# Imprimir los nombres de los archivos\n",
    "for archivo in archivos:\n",
    "    print(archivo)"
   ]
  },
  {
   "cell_type": "code",
   "execution_count": 71,
   "metadata": {},
   "outputs": [],
   "source": [
    "\n",
    "class sacudete():\n",
    "\n",
    "    titulos = []\n",
    "    magnitudes = []\n",
    "\n",
    "    def leerdatos(self, rutadelarchivo):\n",
    "\n",
    "        try:\n",
    "            # Apertura del archivo con codificación 'latin-1'\n",
    "            with open(rutadelarchivo, 'r', encoding='latin-1') as fichero:\n",
    "                # Lectura de los títulos\n",
    "                self.titulos = fichero.readline().strip().split()\n",
    "                self.magnitudes = fichero.readline().strip().split()\n",
    "                # Lectura de todos los datos\n",
    "                datos = []\n",
    "                for linea in fichero:\n",
    "                    datos.append(linea.strip().split())\n",
    "\n",
    "            return datos\n",
    "\n",
    "        except FileNotFoundError:\n",
    "            # Manejo de errores si el archivo no se encuentra\n",
    "            print(\"El archivo no fue encontrado.\")\n",
    "            return None\n",
    "\n",
    "        except Exception as e:\n",
    "            # Manejo de errores genérico\n",
    "            print(\"Ocurrió un error:\", e)\n",
    "            return None\n",
    "\n",
    "        def separarColumnas(lista_elementos, titulos):\n",
    "             # Inicializamos una lista para almacenar los datos separados\n",
    "            datos_separados = []\n",
    "\n",
    "             # Iteramos sobre cada elemento en la lista\n",
    "            for elemento in lista_elementos:\n",
    "            # Inicializamos una lista para almacenar los datos de este elemento\n",
    "                 datos_elemento = []\n",
    "\n",
    "                # Iteramos sobre cada fila en el elemento\n",
    "                for fila in elemento:\n",
    "                  # Creamos un diccionario para almacenar los datos de esta fila\n",
    "                 datos_fila = {}\n",
    "            \n",
    "                    # Iteramos sobre cada título y dato en la fila\n",
    "                     for titulo, dato in zip(titulos, fila):\n",
    "                      # Asignamos el dato a la columna correspondiente en el diccionario\n",
    "                     datos_fila[titulo] = dato\n",
    "            \n",
    "                     # Agregamos el diccionario de datos de la fila a la lista de datos del elemento\n",
    "                     datos_elemento.append(datos_fila)\n",
    "        \n",
    "                # Agregamos la lista de datos del elemento a la lista de datos separados\n",
    "                 datos_separados.append(datos_elemento)\n",
    "\n",
    "        return datos_separados\n",
    "\n",
    "\n",
    "\n",
    "\n",
    "\n"
   ]
  },
  {
   "cell_type": "code",
   "execution_count": 72,
   "metadata": {},
   "outputs": [],
   "source": [
    "datos_horarios = sacudete()"
   ]
  },
  {
   "cell_type": "code",
   "execution_count": 73,
   "metadata": {},
   "outputs": [],
   "source": [
    "datos_totales = []\n",
    "for archivo in archivos:\n",
    "   datos = datos_horarios.leerdatos(archivo)\n",
    "   datos_totales.append(datos)"
   ]
  },
  {
   "cell_type": "code",
   "execution_count": 67,
   "metadata": {},
   "outputs": [
    {
     "data": {
      "text/plain": [
       "30"
      ]
     },
     "execution_count": 67,
     "metadata": {},
     "output_type": "execute_result"
    }
   ],
   "source": []
  }
 ],
 "metadata": {
  "kernelspec": {
   "display_name": "prueba",
   "language": "python",
   "name": "python3"
  },
  "language_info": {
   "codemirror_mode": {
    "name": "ipython",
    "version": 3
   },
   "file_extension": ".py",
   "mimetype": "text/x-python",
   "name": "python",
   "nbconvert_exporter": "python",
   "pygments_lexer": "ipython3",
   "version": "3.11.3"
  }
 },
 "nbformat": 4,
 "nbformat_minor": 2
}
